{
 "cells": [
  {
   "cell_type": "code",
   "execution_count": 2,
   "metadata": {
    "collapsed": false
   },
   "outputs": [
    {
     "ename": "ImportError",
     "evalue": "No module named utils",
     "output_type": "error",
     "traceback": [
      "\u001b[0;31m---------------------------------------------------------------------------\u001b[0m",
      "\u001b[0;31mImportError\u001b[0m                               Traceback (most recent call last)",
      "\u001b[0;32m<ipython-input-2-f2a23c0029b5>\u001b[0m in \u001b[0;36m<module>\u001b[0;34m()\u001b[0m\n\u001b[1;32m      2\u001b[0m \u001b[0;32mimport\u001b[0m \u001b[0mos\u001b[0m\u001b[0;34m,\u001b[0m \u001b[0msys\u001b[0m\u001b[0;34m\u001b[0m\u001b[0m\n\u001b[1;32m      3\u001b[0m \u001b[0;31m# sys.path.insert(0, os.path.abspath(os.path.join(os.path.dirname(__file__), \"..\")))\u001b[0m\u001b[0;34m\u001b[0m\u001b[0;34m\u001b[0m\u001b[0m\n\u001b[0;32m----> 4\u001b[0;31m \u001b[0;32mfrom\u001b[0m \u001b[0mutils\u001b[0m \u001b[0;32mimport\u001b[0m \u001b[0mget_data\u001b[0m\u001b[0;34m\u001b[0m\u001b[0m\n\u001b[0m\u001b[1;32m      5\u001b[0m \u001b[0;32mimport\u001b[0m \u001b[0mmxnet\u001b[0m \u001b[0;32mas\u001b[0m \u001b[0mmx\u001b[0m\u001b[0;34m\u001b[0m\u001b[0m\n\u001b[1;32m      6\u001b[0m \u001b[0;32mimport\u001b[0m \u001b[0mnumpy\u001b[0m \u001b[0;32mas\u001b[0m \u001b[0mnp\u001b[0m\u001b[0;34m\u001b[0m\u001b[0m\n",
      "\u001b[0;31mImportError\u001b[0m: No module named utils"
     ]
    }
   ],
   "source": [
    "# pylint: skip-file\n",
    "import os, sys\n",
    "# sys.path.insert(0, os.path.abspath(os.path.join(os.path.dirname(__file__), \"..\")))\n",
    "from utils import get_data\n",
    "import mxnet as mx\n",
    "import numpy as np\n",
    "import logging\n",
    "\n",
    "data = mx.symbol.Variable('data')\n",
    "fc1 = mx.symbol.FullyConnected(data, name='fc1', num_hidden=128)\n",
    "act1 = mx.symbol.Activation(fc1, name='relu1', act_type=\"relu\")\n",
    "fc2 = mx.symbol.FullyConnected(act1, name = 'fc2', num_hidden = 64)\n",
    "act2 = mx.symbol.Activation(fc2, name='relu2', act_type=\"relu\")\n",
    "fc3 = mx.symbol.FullyConnected(act2, name='fc3', num_hidden=10)\n",
    "softmax = mx.symbol.SoftmaxOutput(fc3, name = 'softmax')\n",
    "\n",
    "n_epoch = 2\n",
    "batch_size = 100\n",
    "\n",
    "basedir = os.path.dirname(__file__)\n",
    "get_data.get_mnist(os.path.join(basedir, \"data\"))\n",
    "\n",
    "train_dataiter = mx.io.MNISTIter(\n",
    "        image=os.path.join(basedir, \"data\", \"train-images-idx3-ubyte\"),\n",
    "        label=os.path.join(basedir, \"data\", \"train-labels-idx1-ubyte\"),\n",
    "        data_shape=(784,),\n",
    "        batch_size=batch_size, shuffle=True, flat=True, silent=False, seed=10)\n",
    "val_dataiter = mx.io.MNISTIter(\n",
    "        image=os.path.join(basedir, \"data\", \"t10k-images-idx3-ubyte\"),\n",
    "        label=os.path.join(basedir, \"data\", \"t10k-labels-idx1-ubyte\"),\n",
    "        data_shape=(784,),\n",
    "        batch_size=batch_size, shuffle=True, flat=True, silent=False)\n",
    "\n",
    "################################################################################\n",
    "# Intermediate-level API\n",
    "################################################################################\n",
    "mod = mx.mod.Module(softmax)\n",
    "mod.bind(data_shapes=train_dataiter.provide_data, label_shapes=train_dataiter.provide_label)\n",
    "mod.init_params()\n",
    "\n",
    "mod.init_optimizer(optimizer_params={'learning_rate':0.01, 'momentum': 0.9})\n",
    "metric = mx.metric.create('acc')\n",
    "\n",
    "for i_epoch in range(n_epoch):\n",
    "    for i_iter, batch in enumerate(train_dataiter):\n",
    "        mod.forward(batch)\n",
    "        mod.update_metric(metric, batch.label)\n",
    "\n",
    "        mod.backward()\n",
    "        mod.update()\n",
    "\n",
    "    for name, val in metric.get_name_value():\n",
    "        print('epoch %03d: %s=%f' % (i_epoch, name, val))\n",
    "    metric.reset()\n",
    "    train_dataiter.reset()\n",
    "\n",
    "\n",
    "################################################################################\n",
    "# High-level API\n",
    "################################################################################\n",
    "logging.basicConfig(level=logging.DEBUG)\n",
    "train_dataiter.reset()\n",
    "mod = mx.mod.Module(softmax)\n",
    "mod.fit(train_dataiter, eval_data=val_dataiter,\n",
    "        optimizer_params={'learning_rate':0.01, 'momentum': 0.9}, num_epoch=n_epoch)\n",
    "\n",
    "# prediction iterator API\n",
    "for preds, i_batch, batch in mod.iter_predict(val_dataiter):\n",
    "    pred_label = preds[0].asnumpy().argmax(axis=1)\n",
    "    label = batch.label[0].asnumpy().astype('int32')\n",
    "    if i_batch % 20 == 0:\n",
    "        print('batch %03d acc: %.3f' % (i_batch, (label == pred_label).sum() / float(len(pred_label))))\n",
    "\n",
    "# a dummy call just to test if the API works for merge_batches=True\n",
    "preds = mod.predict(val_dataiter)\n",
    "\n",
    "# perform prediction and calculate accuracy manually\n",
    "preds = mod.predict(val_dataiter, merge_batches=False)\n",
    "val_dataiter.reset()\n",
    "acc_sum = 0.0; acc_cnt = 0\n",
    "for i, batch in enumerate(val_dataiter):\n",
    "    pred_label = preds[i][0].asnumpy().argmax(axis=1)\n",
    "    label = batch.label[0].asnumpy().astype('int32')\n",
    "    acc_sum += (label == pred_label).sum()\n",
    "    acc_cnt += len(pred_label)\n",
    "print('validation Accuracy: %.3f' % (acc_sum / acc_cnt))\n",
    "\n",
    "# evaluate on validation set with a evaluation metric\n",
    "mod.score(val_dataiter, metric)\n",
    "for name, val in metric.get_name_value():\n",
    "    print('%s=%f' % (name, val))\n"
   ]
  },
  {
   "cell_type": "code",
   "execution_count": null,
   "metadata": {
    "collapsed": true
   },
   "outputs": [],
   "source": []
  }
 ],
 "metadata": {
  "kernelspec": {
   "display_name": "Python 2",
   "language": "python",
   "name": "python2"
  },
  "language_info": {
   "codemirror_mode": {
    "name": "ipython",
    "version": 2
   },
   "file_extension": ".py",
   "mimetype": "text/x-python",
   "name": "python",
   "nbconvert_exporter": "python",
   "pygments_lexer": "ipython2",
   "version": "2.7.13"
  }
 },
 "nbformat": 4,
 "nbformat_minor": 2
}
